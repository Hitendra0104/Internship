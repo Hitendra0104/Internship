{
 "cells": [
  {
   "cell_type": "markdown",
   "id": "cbaa1b91",
   "metadata": {},
   "source": [
    "# Q11 - To find the factorial of a number"
   ]
  },
  {
   "cell_type": "code",
   "execution_count": 2,
   "id": "2462df1f",
   "metadata": {},
   "outputs": [],
   "source": [
    "def factorial(num):\n",
    "    n = num\n",
    "    fact = num\n",
    "    while n>1:\n",
    "        fact = fact*(n-1)\n",
    "        n=n-1\n",
    "    print(\"The factorial of \",num,\" is :\",fact)    \n",
    "    "
   ]
  },
  {
   "cell_type": "code",
   "execution_count": 3,
   "id": "000a5b46",
   "metadata": {},
   "outputs": [
    {
     "name": "stdout",
     "output_type": "stream",
     "text": [
      "The factorial of  6  is : 720\n"
     ]
    }
   ],
   "source": [
    "result = factorial(6)"
   ]
  },
  {
   "cell_type": "markdown",
   "id": "11be09b6",
   "metadata": {},
   "source": [
    "# Q12 - To find whether a given number is prime of composite\n"
   ]
  },
  {
   "cell_type": "code",
   "execution_count": 4,
   "id": "06bb5e2d",
   "metadata": {},
   "outputs": [],
   "source": [
    "def prime(num):\n",
    "    for n in range(2,num):\n",
    "        if num%n==0:\n",
    "            print('%i is Composite'%num)\n",
    "            break\n",
    "    else:\n",
    "        print('%i is Prime'%num)"
   ]
  },
  {
   "cell_type": "code",
   "execution_count": 5,
   "id": "86e56c32",
   "metadata": {},
   "outputs": [
    {
     "name": "stdout",
     "output_type": "stream",
     "text": [
      "23 is Prime\n"
     ]
    }
   ],
   "source": [
    "prime(23)"
   ]
  },
  {
   "cell_type": "markdown",
   "id": "3b13983c",
   "metadata": {},
   "source": [
    "# Q13 - To check whether a given string is palindrome or not"
   ]
  },
  {
   "cell_type": "code",
   "execution_count": 6,
   "id": "d55c8477",
   "metadata": {},
   "outputs": [],
   "source": [
    "def palindrome(s):\n",
    "    s1 = s[: :-1]\n",
    "    if s==s1:\n",
    "        print('The given string is palindrome')\n",
    "    else:\n",
    "        print('The given string is not a palindrome')\n",
    "    "
   ]
  },
  {
   "cell_type": "code",
   "execution_count": 12,
   "id": "9e109dc4",
   "metadata": {},
   "outputs": [
    {
     "name": "stdout",
     "output_type": "stream",
     "text": [
      "The given string is a palindrome\n"
     ]
    }
   ],
   "source": [
    "palindrome('aa bb aa') "
   ]
  },
  {
   "cell_type": "code",
   "execution_count": 8,
   "id": "45c5b74f",
   "metadata": {},
   "outputs": [],
   "source": [
    "def palindrome(s):\n",
    "    length = len(s)\n",
    "    value=1\n",
    "    n1=0\n",
    "    n2=length-1\n",
    "    while(n1<n2):\n",
    "        if s[n1]==s[n2]:\n",
    "            n1+=1\n",
    "            n2-=1\n",
    "        else:\n",
    "            value=0\n",
    "            break\n",
    "    if value==1:if\n",
    "        print('The given string is a palindrome')\n",
    "    else:\n",
    "        print('The given string is not a palindrome')"
   ]
  },
  {
   "cell_type": "code",
   "execution_count": 13,
   "id": "7b2d25b8",
   "metadata": {},
   "outputs": [
    {
     "name": "stdout",
     "output_type": "stream",
     "text": [
      "The given string is a palindrome\n"
     ]
    }
   ],
   "source": [
    "palindrome('aa bb aa')"
   ]
  },
  {
   "cell_type": "markdown",
   "id": "14bb6d57",
   "metadata": {},
   "source": [
    "# Q14 - To get the third side of a right angled triangle from 2 given sides"
   ]
  },
  {
   "cell_type": "code",
   "execution_count": 14,
   "id": "61138e6a",
   "metadata": {},
   "outputs": [],
   "source": [
    "import numpy as np"
   ]
  },
  {
   "cell_type": "code",
   "execution_count": 42,
   "id": "ceb01c2a",
   "metadata": {},
   "outputs": [],
   "source": [
    "def sides(a,b):\n",
    "    if a==b:\n",
    "        h = np.sqrt(a**2 + b**2)\n",
    "        print(\"Hypotenuse = %f\"%h)\n",
    "    else:\n",
    "        if(a>b):\n",
    "            c1 = np.sqrt(a**2 + b**2)\n",
    "            print(\" %f is adjacent side \\n %f is opposite side \\n then hypotenuse is %f \\n\" %(a,b,c1))\n",
    "            c2 = np.sqrt(a**2 - b**2)\n",
    "            print(\" %f is hypotenuse \\n %f is side 1 \\n %f is side 2\\n\" %(a,b,c2))\n",
    "    \n",
    "        else:\n",
    "            c3 = np.sqrt(a**2 + b**2)\n",
    "            print(\" %f is adjacent side \\n %f is opposite side \\n then hypotenuse is %f\\n\" %(a,b,c3))\n",
    "            c4 = np.sqrt(b**2 - a**2)\n",
    "            print(\" %f is hypotenuse \\n %f is side 1 \\n %f is side 2\\n\" %(b,a,c4))"
   ]
  },
  {
   "cell_type": "code",
   "execution_count": 43,
   "id": "09c8d6b0",
   "metadata": {},
   "outputs": [
    {
     "name": "stdout",
     "output_type": "stream",
     "text": [
      " 8.000000 is adjacent side \n",
      " 9.000000 is opposite side \n",
      " then hypotenuse is 12.041595\n",
      "\n",
      " 9.000000 is hypotenuse \n",
      " 8.000000 is side 1 \n",
      " 4.123106 is side 2\n",
      "\n"
     ]
    }
   ],
   "source": [
    "sides(8,9)"
   ]
  },
  {
   "cell_type": "code",
   "execution_count": 44,
   "id": "175b97a4",
   "metadata": {},
   "outputs": [
    {
     "name": "stdout",
     "output_type": "stream",
     "text": [
      "Hypotenuse = 14.142136\n"
     ]
    }
   ],
   "source": [
    "sides(10,10)"
   ]
  },
  {
   "cell_type": "markdown",
   "id": "0cd09da0",
   "metadata": {},
   "source": [
    "# Q15 - To find the frequency of each character in a given string"
   ]
  },
  {
   "cell_type": "code",
   "execution_count": 1,
   "id": "410746b0",
   "metadata": {},
   "outputs": [],
   "source": [
    "def freq_count(var1):\n",
    "    dict = {}\n",
    "    for n in var1:\n",
    "        keys = dict.keys()\n",
    "        if n in keys:\n",
    "            dict[n] += 1\n",
    "        else:\n",
    "            dict[n] = 1\n",
    "    return dict"
   ]
  },
  {
   "cell_type": "code",
   "execution_count": 2,
   "id": "b2ccb761",
   "metadata": {},
   "outputs": [
    {
     "data": {
      "text/plain": [
       "{'t': 1,\n",
       " 'h': 2,\n",
       " 'e': 4,\n",
       " ' ': 8,\n",
       " 'q': 1,\n",
       " 'u': 2,\n",
       " 'i': 1,\n",
       " 'c': 1,\n",
       " 'k': 1,\n",
       " 'b': 1,\n",
       " 'r': 2,\n",
       " 'o': 3,\n",
       " 'w': 1,\n",
       " 'n': 1,\n",
       " 'f': 1,\n",
       " 'x': 1,\n",
       " 'j': 1,\n",
       " 'm': 1,\n",
       " 'p': 2,\n",
       " 's': 2,\n",
       " 'v': 1,\n",
       " 'a': 2,\n",
       " 'l': 1,\n",
       " 'z': 1,\n",
       " 'y': 1}"
      ]
     },
     "execution_count": 2,
     "metadata": {},
     "output_type": "execute_result"
    }
   ],
   "source": [
    "freq_count(\"the quick brown fox jumps over a lazy sheep\")"
   ]
  },
  {
   "cell_type": "code",
   "execution_count": null,
   "id": "9f95e834",
   "metadata": {},
   "outputs": [],
   "source": []
  }
 ],
 "metadata": {
  "kernelspec": {
   "display_name": "Python 3",
   "language": "python",
   "name": "python3"
  },
  "language_info": {
   "codemirror_mode": {
    "name": "ipython",
    "version": 3
   },
   "file_extension": ".py",
   "mimetype": "text/x-python",
   "name": "python",
   "nbconvert_exporter": "python",
   "pygments_lexer": "ipython3",
   "version": "3.8.8"
  }
 },
 "nbformat": 4,
 "nbformat_minor": 5
}
